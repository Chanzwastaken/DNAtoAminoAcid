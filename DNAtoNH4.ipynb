{
 "cells": [
  {
   "cell_type": "code",
   "execution_count": 37,
   "metadata": {},
   "outputs": [],
   "source": [
    "# DNA to Complementary DNA transcription\n",
    "def transcribe_dna_to_complementary(dna_sequence):\n",
    "    complementary_bases = {'G': 'C', 'C': 'G', 'A': 'T', 'T': 'A'}\n",
    "    complementary_strand = ''.join([complementary_bases[base] for base in dna_sequence])\n",
    "    return complementary_strand"
   ]
  },
  {
   "cell_type": "code",
   "execution_count": 38,
   "metadata": {},
   "outputs": [],
   "source": [
    "# Convert Complementary DNA to RNA (T to U)\n",
    "def convert_complementary_dna_to_rna(complementary_strand):\n",
    "    return complementary_strand.replace('T', 'U')"
   ]
  },
  {
   "cell_type": "code",
   "execution_count": 39,
   "metadata": {},
   "outputs": [],
   "source": [
    "# RNA codon table for translation to amino acids\n",
    "rna_codon_table = {\n",
    "    'UUU': 'F', 'UUC': 'F', 'UUA': 'L', 'UUG': 'L',\n",
    "    'UCU': 'S', 'UCC': 'S', 'UCA': 'S', 'UCG': 'S',\n",
    "    'UAU': 'Y', 'UAC': 'Y', 'UAA': ' ', 'UAG': ' ',\n",
    "    'UGU': 'C', 'UGC': 'C', 'UGA': ' ', 'UGG': 'W',\n",
    "    'CUU': 'L', 'CUC': 'L', 'CUA': 'L', 'CUG': 'L',\n",
    "    'CCU': 'P', 'CCC': 'P', 'CCA': 'P', 'CCG': 'P',\n",
    "    'CAU': 'H', 'CAC': 'H', 'CAA': 'Q', 'CAG': 'Q',\n",
    "    'CGU': 'R', 'CGC': 'R', 'CGA': 'R', 'CGG': 'R',\n",
    "    'AUU': 'I', 'AUC': 'I', 'AUA': 'I', 'AUG': 'M',\n",
    "    'ACU': 'T', 'ACC': 'T', 'ACA': 'T', 'ACG': 'T',\n",
    "    'AAU': 'N', 'AAC': 'N', 'AAA': 'K', 'AAG': 'K',\n",
    "    'AGU': 'S', 'AGC': 'S', 'AGA': 'R', 'AGG': 'R',\n",
    "    'GUU': 'V', 'GUC': 'V', 'GUA': 'V', 'GUG': 'V',\n",
    "    'GCU': 'A', 'GCC': 'A', 'GCA': 'A', 'GCG': 'A',\n",
    "    'GAU': 'D', 'GAC': 'D', 'GAA': 'E', 'GAG': 'E',\n",
    "    'GGU': 'G', 'GGC': 'G', 'GGA': 'G', 'GGG': 'G'\n",
    "}"
   ]
  },
  {
   "cell_type": "code",
   "execution_count": 40,
   "metadata": {},
   "outputs": [],
   "source": [
    "# RNA to Amino Acid translation\n",
    "def translate_rna_to_amino_acids(rna_sequence):\n",
    "    amino_acids = []\n",
    "    for i in range(0, len(rna_sequence), 3):\n",
    "        codon = rna_sequence[i:i+3]\n",
    "        amino_acid = rna_codon_table.get(codon, ' ')\n",
    "        amino_acids.append(amino_acid)\n",
    "    return ''.join(amino_acids)\n"
   ]
  },
  {
   "cell_type": "code",
   "execution_count": 41,
   "metadata": {},
   "outputs": [],
   "source": [
    "# Main function to transcribe DNA, convert to RNA, and translate to Amino Acids\n",
    "def dna_to_rna_and_amino_acid(dna_sequence):\n",
    "    dna_sequence = dna_sequence.replace(' ', '').upper()  # Remove spaces and convert to uppercase\n",
    "    complementary_strand = transcribe_dna_to_complementary(dna_sequence)\n",
    "    rna_sequence = convert_complementary_dna_to_rna(complementary_strand)\n",
    "    amino_acid_sequence = translate_rna_to_amino_acids(rna_sequence)\n",
    "    return complementary_strand, rna_sequence, amino_acid_sequence"
   ]
  },
  {
   "cell_type": "code",
   "execution_count": 44,
   "metadata": {},
   "outputs": [
    {
     "name": "stdout",
     "output_type": "stream",
     "text": [
      "DNA Sequence: ATTAAAGGTTTATACCTTCCCAGGTAACAAACCAACCAACTTTCGATCTCTTGTAGATCT\n",
      "Complementary DNA strand: TAATTTCCAAATATGGAAGGGTCCATTGTTTGGTTGGTTGAAAGCTAGAGAACATCTAGA\n",
      "RNA sequence: UAAUUUCCAAAUAUGGAAGGGUCCAUUGUUUGGUUGGUUGAAAGCUAGAGAACAUCUAGA\n",
      "Amino Acid sequence:  FPNMEGSIVWLVES RTSR\n"
     ]
    }
   ],
   "source": [
    "# Example usage\n",
    "dna_sequence = input(\"Enter DNA sequence: \")  # e.g., \"attaaaggtt tataccttcc caggtaacaa accaaccaac tttcgatctc ttgtagatct\"\n",
    "complementary_strand, rna_sequence, amino_acid_sequence = dna_to_rna_and_amino_acid(dna_sequence)\n",
    "\n",
    "print(\"DNA Sequence:\", dna_sequence.replace(' ', '').upper())\n",
    "print(\"Complementary DNA strand:\", complementary_strand)\n",
    "print(\"RNA sequence:\", rna_sequence)\n",
    "print(\"Amino Acid sequence:\", amino_acid_sequence)"
   ]
  },
  {
   "cell_type": "code",
   "execution_count": null,
   "metadata": {},
   "outputs": [],
   "source": []
  }
 ],
 "metadata": {
  "kernelspec": {
   "display_name": "Python 3",
   "language": "python",
   "name": "python3"
  },
  "language_info": {
   "codemirror_mode": {
    "name": "ipython",
    "version": 3
   },
   "file_extension": ".py",
   "mimetype": "text/x-python",
   "name": "python",
   "nbconvert_exporter": "python",
   "pygments_lexer": "ipython3",
   "version": "3.11.4"
  }
 },
 "nbformat": 4,
 "nbformat_minor": 2
}
